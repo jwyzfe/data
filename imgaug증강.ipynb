{
  "nbformat": 4,
  "nbformat_minor": 0,
  "metadata": {
    "colab": {
      "provenance": []
    },
    "kernelspec": {
      "name": "python3",
      "display_name": "Python 3"
    },
    "language_info": {
      "name": "python"
    }
  },
  "cells": [
    {
      "cell_type": "code",
      "execution_count": null,
      "metadata": {
        "colab": {
          "base_uri": "https://localhost:8080/"
        },
        "id": "fs4cMCm5v5AP",
        "outputId": "2b4d1dbc-b85c-46b3-a893-2401c179bbab"
      },
      "outputs": [
        {
          "output_type": "stream",
          "name": "stdout",
          "text": [
            "Requirement already satisfied: imgaug in /usr/local/lib/python3.10/dist-packages (0.4.0)\n",
            "Requirement already satisfied: six in /usr/local/lib/python3.10/dist-packages (from imgaug) (1.16.0)\n",
            "Requirement already satisfied: numpy>=1.15 in /usr/local/lib/python3.10/dist-packages (from imgaug) (1.23.5)\n",
            "Requirement already satisfied: scipy in /usr/local/lib/python3.10/dist-packages (from imgaug) (1.11.3)\n",
            "Requirement already satisfied: Pillow in /usr/local/lib/python3.10/dist-packages (from imgaug) (9.4.0)\n",
            "Requirement already satisfied: matplotlib in /usr/local/lib/python3.10/dist-packages (from imgaug) (3.7.1)\n",
            "Requirement already satisfied: scikit-image>=0.14.2 in /usr/local/lib/python3.10/dist-packages (from imgaug) (0.19.3)\n",
            "Requirement already satisfied: opencv-python in /usr/local/lib/python3.10/dist-packages (from imgaug) (4.8.0.76)\n",
            "Requirement already satisfied: imageio in /usr/local/lib/python3.10/dist-packages (from imgaug) (2.31.6)\n",
            "Requirement already satisfied: Shapely in /usr/local/lib/python3.10/dist-packages (from imgaug) (2.0.2)\n",
            "Requirement already satisfied: networkx>=2.2 in /usr/local/lib/python3.10/dist-packages (from scikit-image>=0.14.2->imgaug) (3.2.1)\n",
            "Requirement already satisfied: tifffile>=2019.7.26 in /usr/local/lib/python3.10/dist-packages (from scikit-image>=0.14.2->imgaug) (2023.9.26)\n",
            "Requirement already satisfied: PyWavelets>=1.1.1 in /usr/local/lib/python3.10/dist-packages (from scikit-image>=0.14.2->imgaug) (1.4.1)\n",
            "Requirement already satisfied: packaging>=20.0 in /usr/local/lib/python3.10/dist-packages (from scikit-image>=0.14.2->imgaug) (23.2)\n",
            "Requirement already satisfied: contourpy>=1.0.1 in /usr/local/lib/python3.10/dist-packages (from matplotlib->imgaug) (1.2.0)\n",
            "Requirement already satisfied: cycler>=0.10 in /usr/local/lib/python3.10/dist-packages (from matplotlib->imgaug) (0.12.1)\n",
            "Requirement already satisfied: fonttools>=4.22.0 in /usr/local/lib/python3.10/dist-packages (from matplotlib->imgaug) (4.44.0)\n",
            "Requirement already satisfied: kiwisolver>=1.0.1 in /usr/local/lib/python3.10/dist-packages (from matplotlib->imgaug) (1.4.5)\n",
            "Requirement already satisfied: pyparsing>=2.3.1 in /usr/local/lib/python3.10/dist-packages (from matplotlib->imgaug) (3.1.1)\n",
            "Requirement already satisfied: python-dateutil>=2.7 in /usr/local/lib/python3.10/dist-packages (from matplotlib->imgaug) (2.8.2)\n"
          ]
        }
      ],
      "source": [
        "pip install imgaug\n"
      ]
    },
    {
      "cell_type": "code",
      "source": [
        "#colab과 googledrive 연동\n",
        "from google.colab import drive\n",
        "drive.mount('/content/drive')"
      ],
      "metadata": {
        "colab": {
          "base_uri": "https://localhost:8080/"
        },
        "id": "uJZAKgUXwht4",
        "outputId": "ad57ef4c-cd27-452d-9d56-f9399f98d676"
      },
      "execution_count": null,
      "outputs": [
        {
          "output_type": "stream",
          "name": "stdout",
          "text": [
            "Mounted at /content/drive\n"
          ]
        }
      ]
    },
    {
      "cell_type": "code",
      "source": [
        "import numpy as np\n"
      ],
      "metadata": {
        "id": "7sfzVwAx6iBx"
      },
      "execution_count": null,
      "outputs": []
    },
    {
      "cell_type": "code",
      "source": [
        "import imgaug as ia\n",
        "from imgaug import augmenters as iaa\n",
        "from imgaug.augmentables.bbs import BoundingBox, BoundingBoxesOnImage\n",
        "from PIL import Image\n",
        "import os\n",
        "import numpy as np"
      ],
      "metadata": {
        "id": "up707S-62jQn"
      },
      "execution_count": null,
      "outputs": []
    },
    {
      "cell_type": "code",
      "source": [
        "\n",
        "# Google Drive에 저장할 폴더 경로\n",
        "drive_folder_path = '/content/drive/MyDrive/bee_yolo_mmh2/data/data_total/'\n",
        "\n",
        "# 예제 이미지 폴더 경로\n",
        "image_folder_path = '/content/drive/MyDrive/bee_yolo_mmh/data/data_image'\n",
        "\n",
        "# 이미지 파일 목록 가져오기\n",
        "image_files = os.listdir(image_folder_path)"
      ],
      "metadata": {
        "id": "xISpJL--5Uwz"
      },
      "execution_count": null,
      "outputs": []
    },
    {
      "cell_type": "code",
      "source": [
        "# Augmentor 선언\n",
        "seq = iaa.Sequential([\n",
        "    iaa.Fliplr(0.5),  # 좌우 반전\n",
        "    iaa.Flipud(0.5),  # 상하 반전\n",
        "    iaa.Affine(rotate=(-45, 45)),  # 회전\n",
        "    iaa.Resize({\"height\": (0.8, 1.2), \"width\": (0.8, 1.2)}),  # 크기 조절\n",
        "    iaa.Multiply((0.5, 1.5), per_channel=0.5),  # 색감 변화\n",
        "    iaa.AdditiveGaussianNoise(scale=(0, 0.05*255)),  # 가우시안 노이즈 추가\n",
        "    iaa.ElasticTransformation(alpha=(0.5, 3.5), sigma=0.25)  # 탄성 변형\n",
        "\n",
        "])"
      ],
      "metadata": {
        "id": "oiWXv_4U5Xn7"
      },
      "execution_count": null,
      "outputs": []
    },
    {
      "cell_type": "code",
      "source": [
        "import imgaug as ia\n",
        "from imgaug import augmenters as iaa\n",
        "from imgaug.augmentables.bbs import BoundingBox, BoundingBoxesOnImage\n",
        "from PIL import Image\n",
        "import os\n",
        "import numpy as np\n",
        "\n",
        "# 나머지 코드는 여기에 있습니다...\n",
        "\n",
        "# Augmentor 선언\n",
        "seq = iaa.Sequential([\n",
        "    iaa.Fliplr(0.5),\n",
        "    iaa.Flipud(0.5),\n",
        "    iaa.Affine(rotate=(-45, 45)),\n",
        "    iaa.Resize({\"height\": (0.8, 1.2), \"width\": (0.8, 1.2)}),\n",
        "    iaa.Multiply((0.5, 1.5), per_channel=0.5),\n",
        "    iaa.AdditiveGaussianNoise(scale=(0, 0.05*255)),\n",
        "    iaa.ElasticTransformation(alpha=(0.5, 3.5), sigma=0.25)\n",
        "    # 다른 augmentations 추가 가능\n",
        "])\n",
        "\n",
        "# 이미지 증강 및 저장\n",
        "for image_file in image_files:\n",
        "    image_path = os.path.join(image_folder_path, image_file)\n",
        "    original_image = Image.open(image_path)\n",
        "\n",
        "    # 바운딩 박스 설정 (예제로 모든 이미지에 동일한 바운딩 박스를 사용)\n",
        "    bboxes = [BoundingBox(x1=50, y1=50, x2=200, y2=200)]\n",
        "    bounding_boxes = BoundingBoxesOnImage(bboxes, shape=original_image.size)\n",
        "\n",
        "    # Augmentation 적용\n",
        "    augmented_image, augmented_bboxes = seq(image=np.array(original_image), bounding_boxes=bounding_boxes)\n",
        "\n",
        "    # 결과 이미지 저장\n",
        "    result_image_path = os.path.join(drive_folder_path, f'augmented_{image_file}')\n",
        "    Image.fromarray(augmented_image).save(result_image_path)\n",
        "\n",
        "# 증강된 바운딩 박스 좌표를 YOLO 형식으로 변환하여 텍스트 파일에 저장\n",
        "    with open(os.path.join(drive_folder_path, f'augmented_{os.path.splitext(image_file)[0]}.txt'), 'w') as label_file:\n",
        "        for bbox in augmented_bboxes:\n",
        "            x_center = (bbox.x1 + bbox.x2) / (2 * augmented_image.shape[1])\n",
        "            y_center = (bbox.y1 + bbox.y2) / (2 * augmented_image.shape[0])\n",
        "            width = (bbox.x2 - bbox.x1) / augmented_image.shape[1]\n",
        "            height = (bbox.y2 - bbox.y1) / augmented_image.shape[0]\n",
        "            label_file.write(f'0 {x_center} {y_center} {width} {height}\\n')  # 클래스 0으로 가정\n",
        "\n",
        "    print(f'Image {image_file} augmented and saved to {result_image_path} with labels')\n",
        "    print(f'Image {image_file} augmented and saved to {result_image_path}')\n",
        "\n",
        "# 작업 완료 메시지\n",
        "print('Augmentation and saving to Google Drive complete.')\n"
      ],
      "metadata": {
        "colab": {
          "base_uri": "https://localhost:8080/"
        },
        "id": "5wyFf41Lwhw4",
        "outputId": "d441f795-45e3-45b8-a2db-f0ff57f3a8a3"
      },
      "execution_count": null,
      "outputs": [
        {
          "output_type": "stream",
          "name": "stdout",
          "text": [
            "Image mm61.jpg augmented and saved to /content/drive/MyDrive/bee_yolo_mmh2/data/data_total/augmented_mm61.jpg with labels\n",
            "Image mm61.jpg augmented and saved to /content/drive/MyDrive/bee_yolo_mmh2/data/data_total/augmented_mm61.jpg\n",
            "Image mm81.jpg augmented and saved to /content/drive/MyDrive/bee_yolo_mmh2/data/data_total/augmented_mm81.jpg with labels\n",
            "Image mm81.jpg augmented and saved to /content/drive/MyDrive/bee_yolo_mmh2/data/data_total/augmented_mm81.jpg\n",
            "Image mm72.jpg augmented and saved to /content/drive/MyDrive/bee_yolo_mmh2/data/data_total/augmented_mm72.jpg with labels\n",
            "Image mm72.jpg augmented and saved to /content/drive/MyDrive/bee_yolo_mmh2/data/data_total/augmented_mm72.jpg\n",
            "Image mm73.jpg augmented and saved to /content/drive/MyDrive/bee_yolo_mmh2/data/data_total/augmented_mm73.jpg with labels\n",
            "Image mm73.jpg augmented and saved to /content/drive/MyDrive/bee_yolo_mmh2/data/data_total/augmented_mm73.jpg\n",
            "Image mm111.jpg augmented and saved to /content/drive/MyDrive/bee_yolo_mmh2/data/data_total/augmented_mm111.jpg with labels\n",
            "Image mm111.jpg augmented and saved to /content/drive/MyDrive/bee_yolo_mmh2/data/data_total/augmented_mm111.jpg\n",
            "Image mm60.jpg augmented and saved to /content/drive/MyDrive/bee_yolo_mmh2/data/data_total/augmented_mm60.jpg with labels\n",
            "Image mm60.jpg augmented and saved to /content/drive/MyDrive/bee_yolo_mmh2/data/data_total/augmented_mm60.jpg\n",
            "Image mm106.jpg augmented and saved to /content/drive/MyDrive/bee_yolo_mmh2/data/data_total/augmented_mm106.jpg with labels\n",
            "Image mm106.jpg augmented and saved to /content/drive/MyDrive/bee_yolo_mmh2/data/data_total/augmented_mm106.jpg\n",
            "Image mm162.jpg augmented and saved to /content/drive/MyDrive/bee_yolo_mmh2/data/data_total/augmented_mm162.jpg with labels\n",
            "Image mm162.jpg augmented and saved to /content/drive/MyDrive/bee_yolo_mmh2/data/data_total/augmented_mm162.jpg\n",
            "Image mm26.jpg augmented and saved to /content/drive/MyDrive/bee_yolo_mmh2/data/data_total/augmented_mm26.jpg with labels\n",
            "Image mm26.jpg augmented and saved to /content/drive/MyDrive/bee_yolo_mmh2/data/data_total/augmented_mm26.jpg\n",
            "Image mm149.jpg augmented and saved to /content/drive/MyDrive/bee_yolo_mmh2/data/data_total/augmented_mm149.jpg with labels\n",
            "Image mm149.jpg augmented and saved to /content/drive/MyDrive/bee_yolo_mmh2/data/data_total/augmented_mm149.jpg\n",
            "Image m108.jpg augmented and saved to /content/drive/MyDrive/bee_yolo_mmh2/data/data_total/augmented_m108.jpg with labels\n",
            "Image m108.jpg augmented and saved to /content/drive/MyDrive/bee_yolo_mmh2/data/data_total/augmented_m108.jpg\n",
            "Image mm11.jpg augmented and saved to /content/drive/MyDrive/bee_yolo_mmh2/data/data_total/augmented_mm11.jpg with labels\n",
            "Image mm11.jpg augmented and saved to /content/drive/MyDrive/bee_yolo_mmh2/data/data_total/augmented_mm11.jpg\n",
            "Image mm118.jpg augmented and saved to /content/drive/MyDrive/bee_yolo_mmh2/data/data_total/augmented_mm118.jpg with labels\n",
            "Image mm118.jpg augmented and saved to /content/drive/MyDrive/bee_yolo_mmh2/data/data_total/augmented_mm118.jpg\n",
            "Image mm41.jpg augmented and saved to /content/drive/MyDrive/bee_yolo_mmh2/data/data_total/augmented_mm41.jpg with labels\n",
            "Image mm41.jpg augmented and saved to /content/drive/MyDrive/bee_yolo_mmh2/data/data_total/augmented_mm41.jpg\n",
            "Image mm122.jpg augmented and saved to /content/drive/MyDrive/bee_yolo_mmh2/data/data_total/augmented_mm122.jpg with labels\n",
            "Image mm122.jpg augmented and saved to /content/drive/MyDrive/bee_yolo_mmh2/data/data_total/augmented_mm122.jpg\n",
            "Image m305.jpg augmented and saved to /content/drive/MyDrive/bee_yolo_mmh2/data/data_total/augmented_m305.jpg with labels\n",
            "Image m305.jpg augmented and saved to /content/drive/MyDrive/bee_yolo_mmh2/data/data_total/augmented_m305.jpg\n",
            "Image m93.jpg augmented and saved to /content/drive/MyDrive/bee_yolo_mmh2/data/data_total/augmented_m93.jpg with labels\n",
            "Image m93.jpg augmented and saved to /content/drive/MyDrive/bee_yolo_mmh2/data/data_total/augmented_m93.jpg\n",
            "Image m89.jpg augmented and saved to /content/drive/MyDrive/bee_yolo_mmh2/data/data_total/augmented_m89.jpg with labels\n",
            "Image m89.jpg augmented and saved to /content/drive/MyDrive/bee_yolo_mmh2/data/data_total/augmented_m89.jpg\n",
            "Image m88.jpg augmented and saved to /content/drive/MyDrive/bee_yolo_mmh2/data/data_total/augmented_m88.jpg with labels\n",
            "Image m88.jpg augmented and saved to /content/drive/MyDrive/bee_yolo_mmh2/data/data_total/augmented_m88.jpg\n",
            "Image m87.jpg augmented and saved to /content/drive/MyDrive/bee_yolo_mmh2/data/data_total/augmented_m87.jpg with labels\n",
            "Image m87.jpg augmented and saved to /content/drive/MyDrive/bee_yolo_mmh2/data/data_total/augmented_m87.jpg\n",
            "Image m85.jpg augmented and saved to /content/drive/MyDrive/bee_yolo_mmh2/data/data_total/augmented_m85.jpg with labels\n",
            "Image m85.jpg augmented and saved to /content/drive/MyDrive/bee_yolo_mmh2/data/data_total/augmented_m85.jpg\n",
            "Image m86.jpg augmented and saved to /content/drive/MyDrive/bee_yolo_mmh2/data/data_total/augmented_m86.jpg with labels\n",
            "Image m86.jpg augmented and saved to /content/drive/MyDrive/bee_yolo_mmh2/data/data_total/augmented_m86.jpg\n",
            "Image m82.jpg augmented and saved to /content/drive/MyDrive/bee_yolo_mmh2/data/data_total/augmented_m82.jpg with labels\n",
            "Image m82.jpg augmented and saved to /content/drive/MyDrive/bee_yolo_mmh2/data/data_total/augmented_m82.jpg\n",
            "Image m79.jpg augmented and saved to /content/drive/MyDrive/bee_yolo_mmh2/data/data_total/augmented_m79.jpg with labels\n",
            "Image m79.jpg augmented and saved to /content/drive/MyDrive/bee_yolo_mmh2/data/data_total/augmented_m79.jpg\n",
            "Image m83.jpg augmented and saved to /content/drive/MyDrive/bee_yolo_mmh2/data/data_total/augmented_m83.jpg with labels\n",
            "Image m83.jpg augmented and saved to /content/drive/MyDrive/bee_yolo_mmh2/data/data_total/augmented_m83.jpg\n",
            "Image m84.jpg augmented and saved to /content/drive/MyDrive/bee_yolo_mmh2/data/data_total/augmented_m84.jpg with labels\n",
            "Image m84.jpg augmented and saved to /content/drive/MyDrive/bee_yolo_mmh2/data/data_total/augmented_m84.jpg\n",
            "Image m80.jpg augmented and saved to /content/drive/MyDrive/bee_yolo_mmh2/data/data_total/augmented_m80.jpg with labels\n",
            "Image m80.jpg augmented and saved to /content/drive/MyDrive/bee_yolo_mmh2/data/data_total/augmented_m80.jpg\n",
            "Image m81.jpg augmented and saved to /content/drive/MyDrive/bee_yolo_mmh2/data/data_total/augmented_m81.jpg with labels\n",
            "Image m81.jpg augmented and saved to /content/drive/MyDrive/bee_yolo_mmh2/data/data_total/augmented_m81.jpg\n",
            "Image mm31.jpg augmented and saved to /content/drive/MyDrive/bee_yolo_mmh2/data/data_total/augmented_mm31.jpg with labels\n",
            "Image mm31.jpg augmented and saved to /content/drive/MyDrive/bee_yolo_mmh2/data/data_total/augmented_mm31.jpg\n",
            "Image mm29.jpg augmented and saved to /content/drive/MyDrive/bee_yolo_mmh2/data/data_total/augmented_mm29.jpg with labels\n",
            "Image mm29.jpg augmented and saved to /content/drive/MyDrive/bee_yolo_mmh2/data/data_total/augmented_mm29.jpg\n",
            "Image mm32.jpg augmented and saved to /content/drive/MyDrive/bee_yolo_mmh2/data/data_total/augmented_mm32.jpg with labels\n",
            "Image mm32.jpg augmented and saved to /content/drive/MyDrive/bee_yolo_mmh2/data/data_total/augmented_mm32.jpg\n",
            "Image mm28.jpg augmented and saved to /content/drive/MyDrive/bee_yolo_mmh2/data/data_total/augmented_mm28.jpg with labels\n",
            "Image mm28.jpg augmented and saved to /content/drive/MyDrive/bee_yolo_mmh2/data/data_total/augmented_mm28.jpg\n",
            "Image mm30.jpg augmented and saved to /content/drive/MyDrive/bee_yolo_mmh2/data/data_total/augmented_mm30.jpg with labels\n",
            "Image mm30.jpg augmented and saved to /content/drive/MyDrive/bee_yolo_mmh2/data/data_total/augmented_mm30.jpg\n",
            "Image mm33.jpg augmented and saved to /content/drive/MyDrive/bee_yolo_mmh2/data/data_total/augmented_mm33.jpg with labels\n",
            "Image mm33.jpg augmented and saved to /content/drive/MyDrive/bee_yolo_mmh2/data/data_total/augmented_mm33.jpg\n",
            "Image mm27.jpg augmented and saved to /content/drive/MyDrive/bee_yolo_mmh2/data/data_total/augmented_mm27.jpg with labels\n",
            "Image mm27.jpg augmented and saved to /content/drive/MyDrive/bee_yolo_mmh2/data/data_total/augmented_mm27.jpg\n",
            "Image mm77.jpg augmented and saved to /content/drive/MyDrive/bee_yolo_mmh2/data/data_total/augmented_mm77.jpg with labels\n",
            "Image mm77.jpg augmented and saved to /content/drive/MyDrive/bee_yolo_mmh2/data/data_total/augmented_mm77.jpg\n",
            "Image mm50.jpg augmented and saved to /content/drive/MyDrive/bee_yolo_mmh2/data/data_total/augmented_mm50.jpg with labels\n",
            "Image mm50.jpg augmented and saved to /content/drive/MyDrive/bee_yolo_mmh2/data/data_total/augmented_mm50.jpg\n",
            "Image mm94.jpg augmented and saved to /content/drive/MyDrive/bee_yolo_mmh2/data/data_total/augmented_mm94.jpg with labels\n",
            "Image mm94.jpg augmented and saved to /content/drive/MyDrive/bee_yolo_mmh2/data/data_total/augmented_mm94.jpg\n",
            "Image mm150.jpg augmented and saved to /content/drive/MyDrive/bee_yolo_mmh2/data/data_total/augmented_mm150.jpg with labels\n",
            "Image mm150.jpg augmented and saved to /content/drive/MyDrive/bee_yolo_mmh2/data/data_total/augmented_mm150.jpg\n",
            "Image mm158.jpg augmented and saved to /content/drive/MyDrive/bee_yolo_mmh2/data/data_total/augmented_mm158.jpg with labels\n",
            "Image mm158.jpg augmented and saved to /content/drive/MyDrive/bee_yolo_mmh2/data/data_total/augmented_mm158.jpg\n",
            "Image mm43.jpg augmented and saved to /content/drive/MyDrive/bee_yolo_mmh2/data/data_total/augmented_mm43.jpg with labels\n",
            "Image mm43.jpg augmented and saved to /content/drive/MyDrive/bee_yolo_mmh2/data/data_total/augmented_mm43.jpg\n",
            "Image mm100.jpg augmented and saved to /content/drive/MyDrive/bee_yolo_mmh2/data/data_total/augmented_mm100.jpg with labels\n",
            "Image mm100.jpg augmented and saved to /content/drive/MyDrive/bee_yolo_mmh2/data/data_total/augmented_mm100.jpg\n",
            "Augmentation and saving to Google Drive complete.\n"
          ]
        }
      ]
    }
  ]
}